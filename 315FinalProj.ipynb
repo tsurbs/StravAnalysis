{
  "nbformat": 4,
  "nbformat_minor": 0,
  "metadata": {
    "colab": {
      "provenance": []
    },
    "kernelspec": {
      "name": "python3",
      "display_name": "Python 3"
    },
    "language_info": {
      "name": "python"
    }
  },
  "cells": [
    {
      "cell_type": "markdown",
      "source": [
        "This is a notebook for the 315 final project"
      ],
      "metadata": {
        "id": "sltNeQQGt1W5"
      }
    },
    {
      "cell_type": "code",
      "execution_count": null,
      "metadata": {
        "id": "NtKkpWlVtygF"
      },
      "outputs": [],
      "source": []
    }
  ]
}